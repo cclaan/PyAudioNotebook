{
 "cells": [
  {
   "cell_type": "code",
   "execution_count": 7,
   "metadata": {},
   "outputs": [],
   "source": [
    "## A few samples cobbled together from various places\n",
    "# https://people.csail.mit.edu/hubert/pyaudio/docs/ \n",
    "# https://realpython.com/playing-and-recording-sound-python/#pyaudio \n",
    "# https://gist.github.com/mabdrabo/8678538"
   ]
  },
  {
   "cell_type": "code",
   "execution_count": 36,
   "metadata": {},
   "outputs": [],
   "source": [
    "# install portaudio first via brew install portaudio \n",
    "# pip install PyAudio"
   ]
  },
  {
   "cell_type": "code",
   "execution_count": 1,
   "metadata": {},
   "outputs": [
    {
     "name": "stdout",
     "output_type": "stream",
     "text": [
      "Populating the interactive namespace from numpy and matplotlib\n"
     ]
    }
   ],
   "source": [
    "%pylab inline"
   ]
  },
  {
   "cell_type": "code",
   "execution_count": 2,
   "metadata": {},
   "outputs": [],
   "source": [
    "import pyaudio\n",
    "import time\n",
    "import wave\n",
    "from scipy import signal"
   ]
  },
  {
   "cell_type": "code",
   "execution_count": 3,
   "metadata": {},
   "outputs": [],
   "source": [
    "import matplotlib.pyplot as plt"
   ]
  },
  {
   "cell_type": "code",
   "execution_count": 4,
   "metadata": {},
   "outputs": [],
   "source": [
    "import pandas as pd\n",
    "import numpy as np\n",
    "from IPython import display"
   ]
  },
  {
   "cell_type": "code",
   "execution_count": 21,
   "metadata": {},
   "outputs": [],
   "source": [
    "CHUNK = 8192\n",
    "FORMAT = pyaudio.paInt16\n",
    "CHANNELS = 1\n",
    "RATE = 44100"
   ]
  },
  {
   "cell_type": "markdown",
   "metadata": {},
   "source": [
    "## Record Wave"
   ]
  },
  {
   "cell_type": "code",
   "execution_count": 26,
   "metadata": {},
   "outputs": [
    {
     "name": "stdout",
     "output_type": "stream",
     "text": [
      "* recording\n",
      "* done recording\n"
     ]
    }
   ],
   "source": [
    "RECORD_SECONDS = 5\n",
    "\n",
    "WAVE_OUTPUT_FILENAME = \"recording.wav\"\n",
    "\n",
    "p = pyaudio.PyAudio()\n",
    "\n",
    "stream = p.open(format=FORMAT,\n",
    "                channels=CHANNELS,\n",
    "                rate=RATE,\n",
    "                input=True,\n",
    "                frames_per_buffer=CHUNK)\n",
    "\n",
    "print(\"* recording\")\n",
    "\n",
    "frames = []\n",
    "\n",
    "for i in range(0, int(RATE / CHUNK * RECORD_SECONDS)):\n",
    "    data = stream.read(CHUNK)\n",
    "    frames.append(data)\n",
    "\n",
    "print(\"* done recording\")\n",
    "\n",
    "stream.stop_stream()\n",
    "stream.close()\n",
    "p.terminate()\n",
    "\n",
    "wf = wave.open(WAVE_OUTPUT_FILENAME, 'wb')\n",
    "wf.setnchannels(CHANNELS)\n",
    "wf.setsampwidth(p.get_sample_size(FORMAT))\n",
    "wf.setframerate(RATE)\n",
    "wf.writeframes(b''.join(frames))\n",
    "wf.close()"
   ]
  },
  {
   "cell_type": "markdown",
   "metadata": {},
   "source": [
    "## Play it back"
   ]
  },
  {
   "cell_type": "code",
   "execution_count": 38,
   "metadata": {},
   "outputs": [],
   "source": [
    "wf = wave.open(WAVE_OUTPUT_FILENAME)\n",
    "\n",
    "# instantiate PyAudio (1)\n",
    "p = pyaudio.PyAudio()\n",
    "\n",
    "# open stream (2)\n",
    "stream = p.open(format=p.get_format_from_width(wf.getsampwidth()),\n",
    "                channels=wf.getnchannels(),\n",
    "                rate=wf.getframerate(),\n",
    "                output=True)\n",
    "\n",
    "# read data\n",
    "data = wf.readframes(CHUNK)\n",
    "\n",
    "# play stream (3)\n",
    "while len(data) > 0:\n",
    "    stream.write(data)\n",
    "    data = wf.readframes(CHUNK)\n",
    "\n",
    "# stop stream (4)\n",
    "stream.stop_stream()\n",
    "stream.close()\n",
    "\n",
    "# close PyAudio (5)\n",
    "p.terminate()"
   ]
  },
  {
   "cell_type": "code",
   "execution_count": 8,
   "metadata": {},
   "outputs": [],
   "source": [
    "def fft(data, rate=44100):\n",
    "    chunk_size = data.shape[0]\n",
    "    spec_x = np.fft.fftfreq(chunk_size, d = 1.0 / float(rate))  \n",
    "    y = np.fft.fft(data)\n",
    "    spec_y = [np.sqrt(c.real ** 2 + c.imag ** 2) for c in y]\n",
    "    return spec_x, spec_y, y\n",
    "        "
   ]
  },
  {
   "cell_type": "code",
   "execution_count": 9,
   "metadata": {},
   "outputs": [],
   "source": [
    "def plot_fft(wave_data, spec_x, spec_y, max_amp=15000):\n",
    "    plt.clf()\n",
    "    plt.subplot(311)\n",
    "    plt.plot(wave_data)\n",
    "    plt.xlabel(\"time [sample]\")\n",
    "    plt.ylabel(\"amplitude\")\n",
    "\n",
    "    plt.subplot(312)\n",
    "    plt.plot(spec_x, spec_y)\n",
    "\n",
    "    plt.axis([0, RATE / 2, 0, max_amp])\n",
    "    plt.xlabel(\"Hz\")\n",
    "    plt.ylabel(\"spectrum\")\n",
    "    \n",
    "    display.display(plt.gcf())\n",
    "    display.clear_output(wait=True)\n",
    "\n"
   ]
  },
  {
   "cell_type": "code",
   "execution_count": 46,
   "metadata": {},
   "outputs": [],
   "source": [
    "def plot_spec(wave_data, DIV=4, WIN=2000, vmax=None):\n",
    "    # TOOD: add a max_freq_to_plot or range instead of div\n",
    "    plt.clf()\n",
    "    \n",
    "    win_name = 'hann'\n",
    "    window = signal.get_window(win_name, WIN)\n",
    "    #window = signal.get_window( ('tukey', 0.8) , WIN, )\n",
    "    f, t, Sxx = signal.spectrogram(wave_data, fs=RATE, window=window, nperseg=WIN, \n",
    "                                   noverlap=WIN//2, scaling='spectrum')\n",
    "    \n",
    "    max_y = f.shape[0]//DIV\n",
    "    \n",
    "    plt.pcolormesh(t, f[:max_y], Sxx[:max_y], vmax=vmax)\n",
    "    plt.ylabel('Frequency [Hz]')\n",
    "    plt.xlabel('Time [sec]')\n",
    "    \n",
    "    i = Sxx.max(1).argmax()\n",
    "    max_val = Sxx.max(1)[i]\n",
    "    max_freq = f[i]\n",
    "    plt.title(\"Max freq: {:6.1f}  val:  {:6.1f}\".format(max_freq, max_val))\n",
    "    \n",
    "    display.display(plt.gcf())\n",
    "    display.clear_output(wait=True)\n",
    "    \n",
    "    "
   ]
  },
  {
   "cell_type": "markdown",
   "metadata": {},
   "source": [
    "## Live spectrogram "
   ]
  },
  {
   "cell_type": "code",
   "execution_count": 42,
   "metadata": {},
   "outputs": [],
   "source": [
    "figsize(10,10)"
   ]
  },
  {
   "cell_type": "code",
   "execution_count": 48,
   "metadata": {
    "scrolled": false
   },
   "outputs": [
    {
     "name": "stdout",
     "output_type": "stream",
     "text": [
      "stop stream\n"
     ]
    },
    {
     "data": {
      "image/png": "[encoded data removed]",
      "text/plain": [
       "<Figure size 720x720 with 1 Axes>"
      ]
     },
     "metadata": {
      "needs_background": "light"
     },
     "output_type": "display_data"
    }
   ],
   "source": [
    "# Use 'stream_callback' for non-blocking loop and plot the audio data \n",
    "\n",
    "p = pyaudio.PyAudio()\n",
    "\n",
    "frames = []\n",
    "max_frames = 50\n",
    "\n",
    "def callback(in_data, frame_count, time_info, status):\n",
    "    frames.append(np.frombuffer(in_data, dtype=np.int16))\n",
    "    if len(frames) > max_frames:\n",
    "        frames.pop(0)\n",
    "    return (in_data, pyaudio.paContinue)\n",
    "\n",
    "start_t = time.time() \n",
    "\n",
    "stream = p.open(format=FORMAT,\n",
    "                channels=CHANNELS,\n",
    "                rate=RATE,\n",
    "                input=True,\n",
    "                frames_per_buffer=CHUNK,\n",
    "                stream_callback=callback)\n",
    "\n",
    "stream.start_stream()\n",
    "\n",
    "use_fft = False\n",
    "\n",
    "while True:\n",
    "    try:\n",
    "        \n",
    "        if len(frames) >= 4:\n",
    "            #wave_data = frames[-1]\n",
    "            #wave_data = np.concatenate( (frames[-4], frames[-3], frames[-2], frames[-1]) )\n",
    "            wave_data = np.concatenate( tuple(frames[-20:]) )\n",
    "\n",
    "            if use_fft:\n",
    "                spec_x, spec_y, y = fft(wave_data, rate=RATE)\n",
    "                plot_fft(wave_data, spec_x, spec_y)\n",
    "            else:\n",
    "                plot_spec(wave_data, vmax=15000)\n",
    "        \n",
    "        time.sleep(0.01)\n",
    "                \n",
    "    except KeyboardInterrupt:\n",
    "        break\n",
    "\n",
    "\n",
    "print(\"stop stream\")\n",
    "\n",
    "# stop stream (6)\n",
    "stream.stop_stream()\n",
    "stream.close()\n",
    "p.terminate()\n"
   ]
  },
  {
   "cell_type": "markdown",
   "metadata": {},
   "source": [
    "## Read wav and plot "
   ]
  },
  {
   "cell_type": "code",
   "execution_count": 28,
   "metadata": {},
   "outputs": [],
   "source": [
    "def read_wav(wav_file):\n",
    "    wf = wave.open(wav_file, 'rb')\n",
    "    data = \"_\"\n",
    "    frames = None\n",
    "    while data:\n",
    "        data = wf.readframes(CHUNK)\n",
    "        npdata = np.frombuffer(data, dtype=np.int16)\n",
    "        if frames is None:\n",
    "            frames = npdata\n",
    "        else:\n",
    "            frames = np.concatenate((frames, npdata))\n",
    "    wf.close()\n",
    "    return frames\n"
   ]
  },
  {
   "cell_type": "code",
   "execution_count": 29,
   "metadata": {},
   "outputs": [],
   "source": [
    "wav_file = \"recording.wav\"\n",
    "frames = read_wav(wav_file)"
   ]
  },
  {
   "cell_type": "code",
   "execution_count": 35,
   "metadata": {},
   "outputs": [
    {
     "data": {
      "image/png": "[encoded data removed]",
      "text/plain": [
       "<Figure size 864x792 with 1 Axes>"
      ]
     },
     "metadata": {
      "needs_background": "light"
     },
     "output_type": "display_data"
    }
   ],
   "source": [
    "plot_spec(frames)"
   ]
  }
 ],
 "metadata": {
  "kernelspec": {
   "display_name": "Python 3",
   "language": "python",
   "name": "python3"
  },
  "language_info": {
   "codemirror_mode": {
    "name": "ipython",
    "version": 3
   },
   "file_extension": ".py",
   "mimetype": "text/x-python",
   "name": "python",
   "nbconvert_exporter": "python",
   "pygments_lexer": "ipython3",
   "version": "3.7.5"
  }
 },
 "nbformat": 4,
 "nbformat_minor": 2
}
